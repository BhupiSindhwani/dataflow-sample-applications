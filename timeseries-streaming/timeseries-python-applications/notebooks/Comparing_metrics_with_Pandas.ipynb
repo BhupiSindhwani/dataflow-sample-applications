{
 "cells": [
  {
   "cell_type": "markdown",
   "metadata": {},
   "source": [
    "##### Copyright 2020 Google Inc.\n",
    "\n",
    "Licensed under the Apache License, Version 2.0 (the \"License\").\n",
    "<!--\n",
    "    Licensed to the Apache Software Foundation (ASF) under one\n",
    "    or more contributor license agreements.  See the NOTICE file\n",
    "    distributed with this work for additional information\n",
    "    regarding copyright ownership.  The ASF licenses this file\n",
    "    to you under the Apache License, Version 2.0 (the\n",
    "    \"License\"); you may not use this file except in compliance\n",
    "    with the License.  You may obtain a copy of the License at\n",
    "\n",
    "      http://www.apache.org/licenses/LICENSE-2.0\n",
    "\n",
    "    Unless required by applicable law or agreed to in writing,\n",
    "    software distributed under the License is distributed on an\n",
    "    \"AS IS\" BASIS, WITHOUT WARRANTIES OR CONDITIONS OF ANY\n",
    "    KIND, either express or implied.  See the License for the\n",
    "    specific language governing permissions and limitations\n",
    "    under the License.\n",
    "-->"
   ]
  },
  {
   "cell_type": "markdown",
   "metadata": {},
   "source": [
    "## Introduction\n",
    "This notebook compares the following time series metrics calculated using two different frameworks:\n",
    "- 60 seconds [Moving Average](https://en.wikipedia.org/wiki/Moving_average)\n",
    "- [Standard Deviation](https://en.wikipedia.org/wiki/Standard_deviation) over 60 second rolling window\n",
    "\n",
    "Using one day worth of forex tick data, for the EUR/USD currency pair, extracted from a public API and resampled to 5 seconds periods.\n",
    "\n",
    "The two frameworks compared are:\n",
    "1. The new [Apache Beam time series framework](https://github.com/GoogleCloudPlatform/dataflow-sample-applications/tree/notebook/timeseries-streaming/timeseries-java-applications), which includes\n",
    "the [metrics library](https://github.com/GoogleCloudPlatform/dataflow-sample-applications/tree/notebook/timeseries-streaming/timeseries-java-applications/TimeSeriesMetricsLibrary) available out of the box in Java SDK\n",
    "2. The [Pandas](https://pandas.pydata.org/) and [Numpy](https://numpy.org/) libraries available in Python SDK, as the defacto tools for data manipulation of time series data in [vectorised](https://en.wikipedia.org/wiki/Array_programming) form"
   ]
  },
  {
   "cell_type": "markdown",
   "metadata": {},
   "source": [
    "## Prerequisites\n",
    "- GCP project with the [BigQuery](https://cloud.google.com/bigquery) API enabled to store results, and [Dataflow](https://cloud.google.com/dataflow) API enabled to compute time series metrics at scale\n",
    "- Google Cloud SDK [installed](https://cloud.google.com/sdk/docs/install) and [configured](https://cloud.google.com/sdk/docs/initializing) "
   ]
  },
  {
   "cell_type": "markdown",
   "metadata": {},
   "source": [
    "## Setup\n",
    "Assuming you are reading this from Github:\n",
    "- Clone this repository locally:\n",
    "\n",
    " ```clone git https://github.com/GoogleCloudPlatform/dataflow-sample-applications```\n",
    "\n",
    "- Install Java 1.8, Gradle and Python 3.x\n",
    "\n",
    "- Create Python Virtual or Conda Environment, e.g. for Conda: ```conda create --name timeseriesanalysis-is-cool python=3.7 jupyterlab```\n",
    "\n",
    "- Run Jupyter notebook or lab to open this notebook\n",
    "\n",
    "- Execute the below cell to install the required dependencies"
   ]
  },
  {
   "cell_type": "code",
   "execution_count": null,
   "metadata": {},
   "outputs": [],
   "source": [
    "!conda install -c conda-forge google-cloud-bigquery google-cloud-bigquery-storage pyarrow pandas numpy matplotlib bokeh -y"
   ]
  },
  {
   "cell_type": "markdown",
   "metadata": {},
   "source": [
    "## Using the new Apache Beam time series java framework in Java to compute metrics at scale in GCP Dataflow\n",
    "In this case we call a gradle command to execute the Java pipeline to read and compute the metrics in scope at scale in Dataflow, PLEASE: Replace `<GCPPROJECT>`, `<REGION>`, `<DATASET>`, `<TABLE>` , `<GCPTMPLOCATION>` and `<TMPLOCATION>` parameters accordingly:"
   ]
  },
  {
   "cell_type": "code",
   "execution_count": null,
   "metadata": {},
   "outputs": [],
   "source": [
    "!gradle -p ../../timeseries-java-applications forex_example --args='--resampleSec=5 --windowSec=60 --runner=DataflowRunner --workerMachineType=n1-standard-4 --project=<GCPPROJECT> --region=<REGION> --bigQueryTableForTSAccumOutputLocation=<GCPPROJECT>:<DATASET>.<TABLE> --gcpTempLocation=<GCPTMPLOCATION> --tempLocation=<TMPLOCATION> --inputPath=<INPUTDATASETLOCATION>'"
   ]
  },
  {
   "cell_type": "markdown",
   "metadata": {},
   "source": [
    "`--resampleSec` and `--windowSec` parameters indicate the sample period in seconds, e.g., 5, and the rolling window period to use to compute the metric in seconds, e.g., 60."
   ]
  },
  {
   "cell_type": "markdown",
   "metadata": {},
   "source": [
    "## Reading results from BigQuery and loading in Pandas Dataframes\n",
    "- With the above command we submitted a Beam Java pipeline to Dataflow to calculate all the [metrics currently implemented](https://github.com/GoogleCloudPlatform/dataflow-sample-applications/tree/master/timeseries-streaming/timeseries-java-applications/TimeSeriesMetricsLibrary), including the ones in scope (Moving Average and Standard Deviation), in the next steps we would query BigQuery and load the results in a Pandas Dataframe for comparison.\n",
    "- We first need to be able to authenticate in GCP to read the data from BigQuery (Please ensure you have Google Cloud SDK [installed](https://cloud.google.com/sdk/docs/install) and [configured](https://cloud.google.com/sdk/docs/initializing) with the correct project)"
   ]
  },
  {
   "cell_type": "code",
   "execution_count": 1,
   "metadata": {},
   "outputs": [],
   "source": [
    "import google.auth\n",
    "from google.cloud import bigquery\n",
    "from google.cloud import bigquery_storage\n",
    "import pandas as pd\n",
    "\n",
    "# Explicitly create a credentials object. This allows you to use the same\n",
    "# credentials for both the BigQuery and BigQuery Storage clients, avoiding\n",
    "# unnecessary API calls to fetch duplicate authentication tokens.\n",
    "credentials, your_project_id = google.auth.default(\n",
    "    scopes=[\"https://www.googleapis.com/auth/cloud-platform\"]\n",
    ")\n",
    "\n",
    "# Make clients.\n",
    "bqclient = bigquery.Client(credentials=credentials, project=your_project_id,)\n",
    "bqstorageclient = bigquery_storage.BigQueryReadClient(credentials=credentials)"
   ]
  },
  {
   "cell_type": "code",
   "execution_count": 3,
   "metadata": {},
   "outputs": [],
   "source": [
    "# Download results from BigQuery after the Beam pipeline finishes processing the time series data\n",
    "query_string_60m = \"\"\"\n",
    "WITH BID_MA60_T AS (\n",
    "    SELECT lower_window_boundary, upper_window_boundary, \n",
    "    (SELECT dbl_data from UNNEST(data) WHERE metric = 'SIMPLE_MOVING_AVERAGE') AS BID_MA60_BQ\n",
    "    FROM `<GCPPROJECT>.<DATASET>.<TABLE>`\n",
    "    WHERE timeseries_minor_key = 'BID'\n",
    ")\n",
    "\n",
    "SELECT * from BID_MA60_T\n",
    "\"\"\"\n",
    "\n",
    "bid_ma60_df = (\n",
    "    bqclient.query(query_string_60m)\n",
    "    .result()\n",
    "    .to_dataframe(bqstorage_client=bqstorageclient)\n",
    ").sort_values(by=['upper_window_boundary'])\n",
    "bid_ma60_df.index = pd.to_datetime(bid_ma60_df['upper_window_boundary'])\n",
    "\n",
    "query_string_stddev = \"\"\"\n",
    "WITH BID_STDDEV_T AS (\n",
    "    SELECT lower_window_boundary, upper_window_boundary, \n",
    "    (SELECT dbl_data from UNNEST(data) WHERE metric = 'STANDARD_DEVIATION') AS BID_STDDEV_BQ\n",
    "    FROM `<GCPPROJECT>.<DATASET>.<TABLE>`\n",
    "    WHERE timeseries_minor_key = 'BID'\n",
    ")\n",
    "\n",
    "SELECT * from BID_STDDEV_T\n",
    "\"\"\"\n",
    "\n",
    "bid_std_dev_df = (\n",
    "    bqclient.query(query_string_stddev)\n",
    "    .result()\n",
    "    .to_dataframe(bqstorage_client=bqstorageclient)\n",
    ").sort_values(by=['upper_window_boundary'])\n",
    "\n",
    "bid_std_dev_df.index = pd.to_datetime(bid_std_dev_df['upper_window_boundary'])"
   ]
  },
  {
   "cell_type": "code",
   "execution_count": 4,
   "metadata": {},
   "outputs": [
    {
     "data": {
      "text/html": [
       "<div>\n",
       "<style scoped>\n",
       "    .dataframe tbody tr th:only-of-type {\n",
       "        vertical-align: middle;\n",
       "    }\n",
       "\n",
       "    .dataframe tbody tr th {\n",
       "        vertical-align: top;\n",
       "    }\n",
       "\n",
       "    .dataframe thead th {\n",
       "        text-align: right;\n",
       "    }\n",
       "</style>\n",
       "<table border=\"1\" class=\"dataframe\">\n",
       "  <thead>\n",
       "    <tr style=\"text-align: right;\">\n",
       "      <th></th>\n",
       "      <th>lower_window_boundary</th>\n",
       "      <th>upper_window_boundary</th>\n",
       "      <th>BID_MA60_BQ</th>\n",
       "    </tr>\n",
       "    <tr>\n",
       "      <th>upper_window_boundary</th>\n",
       "      <th></th>\n",
       "      <th></th>\n",
       "      <th></th>\n",
       "    </tr>\n",
       "  </thead>\n",
       "  <tbody>\n",
       "    <tr>\n",
       "      <th>2020-05-11 00:00:05+00:00</th>\n",
       "      <td>2020-05-11 00:00:00+00:00</td>\n",
       "      <td>2020-05-11 00:00:05+00:00</td>\n",
       "      <td>1.083749</td>\n",
       "    </tr>\n",
       "    <tr>\n",
       "      <th>2020-05-11 00:00:10+00:00</th>\n",
       "      <td>2020-05-11 00:00:05+00:00</td>\n",
       "      <td>2020-05-11 00:00:10+00:00</td>\n",
       "      <td>1.083751</td>\n",
       "    </tr>\n",
       "    <tr>\n",
       "      <th>2020-05-11 00:00:15+00:00</th>\n",
       "      <td>2020-05-11 00:00:10+00:00</td>\n",
       "      <td>2020-05-11 00:00:15+00:00</td>\n",
       "      <td>1.083760</td>\n",
       "    </tr>\n",
       "    <tr>\n",
       "      <th>2020-05-11 00:00:20+00:00</th>\n",
       "      <td>2020-05-11 00:00:15+00:00</td>\n",
       "      <td>2020-05-11 00:00:20+00:00</td>\n",
       "      <td>1.083758</td>\n",
       "    </tr>\n",
       "    <tr>\n",
       "      <th>2020-05-11 00:00:25+00:00</th>\n",
       "      <td>2020-05-11 00:00:20+00:00</td>\n",
       "      <td>2020-05-11 00:00:25+00:00</td>\n",
       "      <td>1.083747</td>\n",
       "    </tr>\n",
       "    <tr>\n",
       "      <th>...</th>\n",
       "      <td>...</td>\n",
       "      <td>...</td>\n",
       "      <td>...</td>\n",
       "    </tr>\n",
       "    <tr>\n",
       "      <th>2020-05-11 23:59:25+00:00</th>\n",
       "      <td>2020-05-11 23:59:20+00:00</td>\n",
       "      <td>2020-05-11 23:59:25+00:00</td>\n",
       "      <td>1.080886</td>\n",
       "    </tr>\n",
       "    <tr>\n",
       "      <th>2020-05-11 23:59:35+00:00</th>\n",
       "      <td>2020-05-11 23:59:30+00:00</td>\n",
       "      <td>2020-05-11 23:59:35+00:00</td>\n",
       "      <td>1.080882</td>\n",
       "    </tr>\n",
       "    <tr>\n",
       "      <th>2020-05-11 23:59:45+00:00</th>\n",
       "      <td>2020-05-11 23:59:40+00:00</td>\n",
       "      <td>2020-05-11 23:59:45+00:00</td>\n",
       "      <td>1.080883</td>\n",
       "    </tr>\n",
       "    <tr>\n",
       "      <th>2020-05-11 23:59:50+00:00</th>\n",
       "      <td>2020-05-11 23:59:45+00:00</td>\n",
       "      <td>2020-05-11 23:59:50+00:00</td>\n",
       "      <td>1.080885</td>\n",
       "    </tr>\n",
       "    <tr>\n",
       "      <th>2020-05-12 00:00:00+00:00</th>\n",
       "      <td>2020-05-11 23:59:55+00:00</td>\n",
       "      <td>2020-05-12 00:00:00+00:00</td>\n",
       "      <td>1.080902</td>\n",
       "    </tr>\n",
       "  </tbody>\n",
       "</table>\n",
       "<p>16960 rows × 3 columns</p>\n",
       "</div>"
      ],
      "text/plain": [
       "                              lower_window_boundary     upper_window_boundary  \\\n",
       "upper_window_boundary                                                           \n",
       "2020-05-11 00:00:05+00:00 2020-05-11 00:00:00+00:00 2020-05-11 00:00:05+00:00   \n",
       "2020-05-11 00:00:10+00:00 2020-05-11 00:00:05+00:00 2020-05-11 00:00:10+00:00   \n",
       "2020-05-11 00:00:15+00:00 2020-05-11 00:00:10+00:00 2020-05-11 00:00:15+00:00   \n",
       "2020-05-11 00:00:20+00:00 2020-05-11 00:00:15+00:00 2020-05-11 00:00:20+00:00   \n",
       "2020-05-11 00:00:25+00:00 2020-05-11 00:00:20+00:00 2020-05-11 00:00:25+00:00   \n",
       "...                                             ...                       ...   \n",
       "2020-05-11 23:59:25+00:00 2020-05-11 23:59:20+00:00 2020-05-11 23:59:25+00:00   \n",
       "2020-05-11 23:59:35+00:00 2020-05-11 23:59:30+00:00 2020-05-11 23:59:35+00:00   \n",
       "2020-05-11 23:59:45+00:00 2020-05-11 23:59:40+00:00 2020-05-11 23:59:45+00:00   \n",
       "2020-05-11 23:59:50+00:00 2020-05-11 23:59:45+00:00 2020-05-11 23:59:50+00:00   \n",
       "2020-05-12 00:00:00+00:00 2020-05-11 23:59:55+00:00 2020-05-12 00:00:00+00:00   \n",
       "\n",
       "                           BID_MA60_BQ  \n",
       "upper_window_boundary                   \n",
       "2020-05-11 00:00:05+00:00     1.083749  \n",
       "2020-05-11 00:00:10+00:00     1.083751  \n",
       "2020-05-11 00:00:15+00:00     1.083760  \n",
       "2020-05-11 00:00:20+00:00     1.083758  \n",
       "2020-05-11 00:00:25+00:00     1.083747  \n",
       "...                                ...  \n",
       "2020-05-11 23:59:25+00:00     1.080886  \n",
       "2020-05-11 23:59:35+00:00     1.080882  \n",
       "2020-05-11 23:59:45+00:00     1.080883  \n",
       "2020-05-11 23:59:50+00:00     1.080885  \n",
       "2020-05-12 00:00:00+00:00     1.080902  \n",
       "\n",
       "[16960 rows x 3 columns]"
      ]
     },
     "execution_count": 4,
     "metadata": {},
     "output_type": "execute_result"
    }
   ],
   "source": [
    "# Showing Moving Average sample\n",
    "bid_ma60_df"
   ]
  },
  {
   "cell_type": "code",
   "execution_count": 5,
   "metadata": {},
   "outputs": [
    {
     "data": {
      "text/html": [
       "<div>\n",
       "<style scoped>\n",
       "    .dataframe tbody tr th:only-of-type {\n",
       "        vertical-align: middle;\n",
       "    }\n",
       "\n",
       "    .dataframe tbody tr th {\n",
       "        vertical-align: top;\n",
       "    }\n",
       "\n",
       "    .dataframe thead th {\n",
       "        text-align: right;\n",
       "    }\n",
       "</style>\n",
       "<table border=\"1\" class=\"dataframe\">\n",
       "  <thead>\n",
       "    <tr style=\"text-align: right;\">\n",
       "      <th></th>\n",
       "      <th>lower_window_boundary</th>\n",
       "      <th>upper_window_boundary</th>\n",
       "      <th>BID_STDDEV_BQ</th>\n",
       "    </tr>\n",
       "    <tr>\n",
       "      <th>upper_window_boundary</th>\n",
       "      <th></th>\n",
       "      <th></th>\n",
       "      <th></th>\n",
       "    </tr>\n",
       "  </thead>\n",
       "  <tbody>\n",
       "    <tr>\n",
       "      <th>2020-05-11 00:00:05+00:00</th>\n",
       "      <td>2020-05-11 00:00:00+00:00</td>\n",
       "      <td>2020-05-11 00:00:05+00:00</td>\n",
       "      <td>0.000000</td>\n",
       "    </tr>\n",
       "    <tr>\n",
       "      <th>2020-05-11 00:00:10+00:00</th>\n",
       "      <td>2020-05-11 00:00:05+00:00</td>\n",
       "      <td>2020-05-11 00:00:10+00:00</td>\n",
       "      <td>0.000030</td>\n",
       "    </tr>\n",
       "    <tr>\n",
       "      <th>2020-05-11 00:00:15+00:00</th>\n",
       "      <td>2020-05-11 00:00:10+00:00</td>\n",
       "      <td>2020-05-11 00:00:15+00:00</td>\n",
       "      <td>0.000028</td>\n",
       "    </tr>\n",
       "    <tr>\n",
       "      <th>2020-05-11 00:00:20+00:00</th>\n",
       "      <td>2020-05-11 00:00:15+00:00</td>\n",
       "      <td>2020-05-11 00:00:20+00:00</td>\n",
       "      <td>0.000030</td>\n",
       "    </tr>\n",
       "    <tr>\n",
       "      <th>2020-05-11 00:00:25+00:00</th>\n",
       "      <td>2020-05-11 00:00:20+00:00</td>\n",
       "      <td>2020-05-11 00:00:25+00:00</td>\n",
       "      <td>0.000036</td>\n",
       "    </tr>\n",
       "    <tr>\n",
       "      <th>...</th>\n",
       "      <td>...</td>\n",
       "      <td>...</td>\n",
       "      <td>...</td>\n",
       "    </tr>\n",
       "    <tr>\n",
       "      <th>2020-05-11 23:59:25+00:00</th>\n",
       "      <td>2020-05-11 23:59:20+00:00</td>\n",
       "      <td>2020-05-11 23:59:25+00:00</td>\n",
       "      <td>0.000000</td>\n",
       "    </tr>\n",
       "    <tr>\n",
       "      <th>2020-05-11 23:59:35+00:00</th>\n",
       "      <td>2020-05-11 23:59:30+00:00</td>\n",
       "      <td>2020-05-11 23:59:35+00:00</td>\n",
       "      <td>0.000004</td>\n",
       "    </tr>\n",
       "    <tr>\n",
       "      <th>2020-05-11 23:59:45+00:00</th>\n",
       "      <td>2020-05-11 23:59:40+00:00</td>\n",
       "      <td>2020-05-11 23:59:45+00:00</td>\n",
       "      <td>0.000004</td>\n",
       "    </tr>\n",
       "    <tr>\n",
       "      <th>2020-05-11 23:59:50+00:00</th>\n",
       "      <td>2020-05-11 23:59:45+00:00</td>\n",
       "      <td>2020-05-11 23:59:50+00:00</td>\n",
       "      <td>0.000010</td>\n",
       "    </tr>\n",
       "    <tr>\n",
       "      <th>2020-05-12 00:00:00+00:00</th>\n",
       "      <td>2020-05-11 23:59:55+00:00</td>\n",
       "      <td>2020-05-12 00:00:00+00:00</td>\n",
       "      <td>0.000018</td>\n",
       "    </tr>\n",
       "  </tbody>\n",
       "</table>\n",
       "<p>16960 rows × 3 columns</p>\n",
       "</div>"
      ],
      "text/plain": [
       "                              lower_window_boundary     upper_window_boundary  \\\n",
       "upper_window_boundary                                                           \n",
       "2020-05-11 00:00:05+00:00 2020-05-11 00:00:00+00:00 2020-05-11 00:00:05+00:00   \n",
       "2020-05-11 00:00:10+00:00 2020-05-11 00:00:05+00:00 2020-05-11 00:00:10+00:00   \n",
       "2020-05-11 00:00:15+00:00 2020-05-11 00:00:10+00:00 2020-05-11 00:00:15+00:00   \n",
       "2020-05-11 00:00:20+00:00 2020-05-11 00:00:15+00:00 2020-05-11 00:00:20+00:00   \n",
       "2020-05-11 00:00:25+00:00 2020-05-11 00:00:20+00:00 2020-05-11 00:00:25+00:00   \n",
       "...                                             ...                       ...   \n",
       "2020-05-11 23:59:25+00:00 2020-05-11 23:59:20+00:00 2020-05-11 23:59:25+00:00   \n",
       "2020-05-11 23:59:35+00:00 2020-05-11 23:59:30+00:00 2020-05-11 23:59:35+00:00   \n",
       "2020-05-11 23:59:45+00:00 2020-05-11 23:59:40+00:00 2020-05-11 23:59:45+00:00   \n",
       "2020-05-11 23:59:50+00:00 2020-05-11 23:59:45+00:00 2020-05-11 23:59:50+00:00   \n",
       "2020-05-12 00:00:00+00:00 2020-05-11 23:59:55+00:00 2020-05-12 00:00:00+00:00   \n",
       "\n",
       "                           BID_STDDEV_BQ  \n",
       "upper_window_boundary                     \n",
       "2020-05-11 00:00:05+00:00       0.000000  \n",
       "2020-05-11 00:00:10+00:00       0.000030  \n",
       "2020-05-11 00:00:15+00:00       0.000028  \n",
       "2020-05-11 00:00:20+00:00       0.000030  \n",
       "2020-05-11 00:00:25+00:00       0.000036  \n",
       "...                                  ...  \n",
       "2020-05-11 23:59:25+00:00       0.000000  \n",
       "2020-05-11 23:59:35+00:00       0.000004  \n",
       "2020-05-11 23:59:45+00:00       0.000004  \n",
       "2020-05-11 23:59:50+00:00       0.000010  \n",
       "2020-05-12 00:00:00+00:00       0.000018  \n",
       "\n",
       "[16960 rows x 3 columns]"
      ]
     },
     "execution_count": 5,
     "metadata": {},
     "output_type": "execute_result"
    }
   ],
   "source": [
    "# Showing Moving Average sample\n",
    "bid_std_dev_df"
   ]
  },
  {
   "cell_type": "markdown",
   "metadata": {},
   "source": [
    "## Using the Pandas Dataframe and Numpy APIs to compute the metrics\n",
    "In this case we will leverage the data processing Python libraries directly, we first read the original dataset."
   ]
  },
  {
   "cell_type": "code",
   "execution_count": 6,
   "metadata": {
    "collapsed": false,
    "jupyter": {
     "outputs_hidden": false
    },
    "pycharm": {
     "name": "#%%\n"
    }
   },
   "outputs": [],
   "source": [
    "import pandas as pd\n",
    "import numpy as np\n",
    "import matplotlib.pyplot as plt\n",
    "\n",
    "\n",
    "eurusd = pd.read_csv(\"../../timeseries-java-applications/Examples/src/main/resources/EURUSD-2020-05-11_2020-05-11.csv\",\n",
    "                     index_col=1, names=[\"Pair\", \"Timestamp\", \"Ask\", \"Bid\", \"Ask Volume\", \"Bid Volume\"], header=None)\n",
    "eurusd.index = pd.to_datetime(eurusd.index)"
   ]
  },
  {
   "cell_type": "markdown",
   "metadata": {},
   "source": [
    "In order to calculate the metrics in Pandas using the same constraints we need to:\n",
    "1. [resample()](https://pandas.pydata.org/pandas-docs/stable/reference/api/pandas.DataFrame.resample.html) the time series datapoints to every 5 seconds\n",
    "2. Do forward filling with the [pad()](https://pandas.pydata.org/pandas-docs/stable/reference/api/pandas.DataFrame.pad.html) method to fill the gaps accordingly\n",
    "3. Apply [rolling()](https://pandas.pydata.org/pandas-docs/stable/reference/api/pandas.DataFrame.rolling.html) window\n",
    "4. Aggregate by applying the Numpy [mean()](https://numpy.org/doc/stable/reference/generated/numpy.mean.html) and [std()](https://numpy.org/doc/stable/reference/generated/numpy.std.html) methods respectively"
   ]
  },
  {
   "cell_type": "code",
   "execution_count": 7,
   "metadata": {},
   "outputs": [],
   "source": [
    "eurusd_bid_ma60 = eurusd.rename(columns={\"Bid\": \"Bid MA60 Pandas\"}).resample(\"5S\").pad()['Bid MA60 Pandas'].rolling(window=12, min_periods=1).apply(lambda x: np.mean(x))"
   ]
  },
  {
   "cell_type": "code",
   "execution_count": 8,
   "metadata": {
    "collapsed": false,
    "jupyter": {
     "outputs_hidden": false
    },
    "pycharm": {
     "name": "#%%\n"
    }
   },
   "outputs": [],
   "source": [
    "eurusd_bid_stddev = eurusd.rename(columns={\"Bid\": \"Bid StdDev Pandas\"}).resample(\"5S\").pad()['Bid StdDev Pandas'].rolling(window=12, min_periods=1).apply(lambda x: np.std(x))"
   ]
  },
  {
   "cell_type": "markdown",
   "metadata": {},
   "source": [
    "Once we have the moving average and standard deviation calculated in both frameworks we can do:\n",
    "1. Convert the dataframes generated from BigQuery to UTC\n",
    "2. Join the results from the two frameworks for comparisson\n",
    "3. Create a Delta metric to visualise how close the values are\n",
    "4. Quick visualization to compare the two metrics"
   ]
  },
  {
   "cell_type": "markdown",
   "metadata": {},
   "source": [
    "## Comparing results"
   ]
  },
  {
   "cell_type": "code",
   "execution_count": 9,
   "metadata": {},
   "outputs": [
    {
     "data": {
      "text/plain": [
       "<AxesSubplot:xlabel='upper_window_boundary'>"
      ]
     },
     "execution_count": 9,
     "metadata": {},
     "output_type": "execute_result"
    },
    {
     "data": {
      "image/png": "[encoded data removed]",
      "text/plain": [
       "<Figure size 1080x432 with 1 Axes>"
      ]
     },
     "metadata": {
      "needs_background": "light"
     },
     "output_type": "display_data"
    }
   ],
   "source": [
    "bid_ma60_df_utc = bid_ma60_df.tz_convert(None)\n",
    "bid_ma60_df_utc_join = bid_ma60_df_utc.join(eurusd_bid_ma60).drop(columns=['upper_window_boundary', 'lower_window_boundary'])\n",
    "bid_ma60_df_utc_join['Delta'] = bid_ma60_df_utc_join[\"Bid MA60 Pandas\"] - bid_ma60_df_utc_join[\"BID_MA60_BQ\"]\n",
    "bid_ma60_df_utc_join[['BID_MA60_BQ','Bid MA60 Pandas']].plot(figsize=(15,6))"
   ]
  },
  {
   "cell_type": "code",
   "execution_count": 10,
   "metadata": {},
   "outputs": [
    {
     "data": {
      "text/plain": [
       "<AxesSubplot:xlabel='upper_window_boundary'>"
      ]
     },
     "execution_count": 10,
     "metadata": {},
     "output_type": "execute_result"
    },
    {
     "data": {
      "image/png": "[encoded data removed]",
      "text/plain": [
       "<Figure size 1080x432 with 1 Axes>"
      ]
     },
     "metadata": {
      "needs_background": "light"
     },
     "output_type": "display_data"
    }
   ],
   "source": [
    "bid_std_dev_df_utc = bid_std_dev_df.tz_convert(None)\n",
    "bid_std_dev_df_utc_join = bid_std_dev_df_utc.join(eurusd_bid_stddev).drop(columns=['upper_window_boundary', 'lower_window_boundary'])\n",
    "bid_std_dev_df_utc_join['Delta'] = bid_std_dev_df_utc_join[\"Bid StdDev Pandas\"] - bid_std_dev_df_utc_join[\"BID_STDDEV_BQ\"]\n",
    "bid_std_dev_df_utc_join[['BID_STDDEV_BQ','Bid StdDev Pandas']].plot(figsize=(15,6))"
   ]
  },
  {
   "cell_type": "markdown",
   "metadata": {},
   "source": [
    "We can also sample the joined dataframes to compare the two"
   ]
  },
  {
   "cell_type": "code",
   "execution_count": 11,
   "metadata": {},
   "outputs": [
    {
     "data": {
      "text/html": [
       "<div>\n",
       "<style scoped>\n",
       "    .dataframe tbody tr th:only-of-type {\n",
       "        vertical-align: middle;\n",
       "    }\n",
       "\n",
       "    .dataframe tbody tr th {\n",
       "        vertical-align: top;\n",
       "    }\n",
       "\n",
       "    .dataframe thead th {\n",
       "        text-align: right;\n",
       "    }\n",
       "</style>\n",
       "<table border=\"1\" class=\"dataframe\">\n",
       "  <thead>\n",
       "    <tr style=\"text-align: right;\">\n",
       "      <th></th>\n",
       "      <th>BID_MA60_BQ</th>\n",
       "      <th>Bid MA60 Pandas</th>\n",
       "      <th>Delta</th>\n",
       "    </tr>\n",
       "    <tr>\n",
       "      <th>upper_window_boundary</th>\n",
       "      <th></th>\n",
       "      <th></th>\n",
       "      <th></th>\n",
       "    </tr>\n",
       "  </thead>\n",
       "  <tbody>\n",
       "    <tr>\n",
       "      <th>2020-05-11 00:00:05</th>\n",
       "      <td>1.083749</td>\n",
       "      <td>1.083720</td>\n",
       "      <td>-2.875000e-05</td>\n",
       "    </tr>\n",
       "    <tr>\n",
       "      <th>2020-05-11 00:00:10</th>\n",
       "      <td>1.083751</td>\n",
       "      <td>1.083750</td>\n",
       "      <td>-1.176471e-06</td>\n",
       "    </tr>\n",
       "    <tr>\n",
       "      <th>2020-05-11 00:00:15</th>\n",
       "      <td>1.083760</td>\n",
       "      <td>1.083760</td>\n",
       "      <td>-4.000000e-07</td>\n",
       "    </tr>\n",
       "    <tr>\n",
       "      <th>2020-05-11 00:00:20</th>\n",
       "      <td>1.083758</td>\n",
       "      <td>1.083750</td>\n",
       "      <td>-7.575758e-06</td>\n",
       "    </tr>\n",
       "    <tr>\n",
       "      <th>2020-05-11 00:00:25</th>\n",
       "      <td>1.083747</td>\n",
       "      <td>1.083738</td>\n",
       "      <td>-8.521739e-06</td>\n",
       "    </tr>\n",
       "    <tr>\n",
       "      <th>...</th>\n",
       "      <td>...</td>\n",
       "      <td>...</td>\n",
       "      <td>...</td>\n",
       "    </tr>\n",
       "    <tr>\n",
       "      <th>2020-05-11 23:59:25</th>\n",
       "      <td>1.080886</td>\n",
       "      <td>1.080893</td>\n",
       "      <td>7.333333e-06</td>\n",
       "    </tr>\n",
       "    <tr>\n",
       "      <th>2020-05-11 23:59:35</th>\n",
       "      <td>1.080882</td>\n",
       "      <td>1.080891</td>\n",
       "      <td>8.833333e-06</td>\n",
       "    </tr>\n",
       "    <tr>\n",
       "      <th>2020-05-11 23:59:45</th>\n",
       "      <td>1.080883</td>\n",
       "      <td>1.080888</td>\n",
       "      <td>5.606061e-06</td>\n",
       "    </tr>\n",
       "    <tr>\n",
       "      <th>2020-05-11 23:59:50</th>\n",
       "      <td>1.080885</td>\n",
       "      <td>1.080890</td>\n",
       "      <td>4.545455e-06</td>\n",
       "    </tr>\n",
       "    <tr>\n",
       "      <th>2020-05-12 00:00:00</th>\n",
       "      <td>1.080902</td>\n",
       "      <td>NaN</td>\n",
       "      <td>NaN</td>\n",
       "    </tr>\n",
       "  </tbody>\n",
       "</table>\n",
       "<p>16960 rows × 3 columns</p>\n",
       "</div>"
      ],
      "text/plain": [
       "                       BID_MA60_BQ  Bid MA60 Pandas         Delta\n",
       "upper_window_boundary                                            \n",
       "2020-05-11 00:00:05       1.083749         1.083720 -2.875000e-05\n",
       "2020-05-11 00:00:10       1.083751         1.083750 -1.176471e-06\n",
       "2020-05-11 00:00:15       1.083760         1.083760 -4.000000e-07\n",
       "2020-05-11 00:00:20       1.083758         1.083750 -7.575758e-06\n",
       "2020-05-11 00:00:25       1.083747         1.083738 -8.521739e-06\n",
       "...                            ...              ...           ...\n",
       "2020-05-11 23:59:25       1.080886         1.080893  7.333333e-06\n",
       "2020-05-11 23:59:35       1.080882         1.080891  8.833333e-06\n",
       "2020-05-11 23:59:45       1.080883         1.080888  5.606061e-06\n",
       "2020-05-11 23:59:50       1.080885         1.080890  4.545455e-06\n",
       "2020-05-12 00:00:00       1.080902              NaN           NaN\n",
       "\n",
       "[16960 rows x 3 columns]"
      ]
     },
     "execution_count": 11,
     "metadata": {},
     "output_type": "execute_result"
    }
   ],
   "source": [
    "bid_ma60_df_utc_join"
   ]
  },
  {
   "cell_type": "code",
   "execution_count": 12,
   "metadata": {},
   "outputs": [
    {
     "data": {
      "text/html": [
       "<div>\n",
       "<style scoped>\n",
       "    .dataframe tbody tr th:only-of-type {\n",
       "        vertical-align: middle;\n",
       "    }\n",
       "\n",
       "    .dataframe tbody tr th {\n",
       "        vertical-align: top;\n",
       "    }\n",
       "\n",
       "    .dataframe thead th {\n",
       "        text-align: right;\n",
       "    }\n",
       "</style>\n",
       "<table border=\"1\" class=\"dataframe\">\n",
       "  <thead>\n",
       "    <tr style=\"text-align: right;\">\n",
       "      <th></th>\n",
       "      <th>BID_STDDEV_BQ</th>\n",
       "      <th>Bid StdDev Pandas</th>\n",
       "      <th>Delta</th>\n",
       "    </tr>\n",
       "    <tr>\n",
       "      <th>upper_window_boundary</th>\n",
       "      <th></th>\n",
       "      <th></th>\n",
       "      <th></th>\n",
       "    </tr>\n",
       "  </thead>\n",
       "  <tbody>\n",
       "    <tr>\n",
       "      <th>2020-05-11 00:00:05</th>\n",
       "      <td>0.000000</td>\n",
       "      <td>0.000000</td>\n",
       "      <td>0.000000e+00</td>\n",
       "    </tr>\n",
       "    <tr>\n",
       "      <th>2020-05-11 00:00:10</th>\n",
       "      <td>0.000030</td>\n",
       "      <td>0.000030</td>\n",
       "      <td>-2.550924e-17</td>\n",
       "    </tr>\n",
       "    <tr>\n",
       "      <th>2020-05-11 00:00:15</th>\n",
       "      <td>0.000028</td>\n",
       "      <td>0.000028</td>\n",
       "      <td>-2.875256e-11</td>\n",
       "    </tr>\n",
       "    <tr>\n",
       "      <th>2020-05-11 00:00:20</th>\n",
       "      <td>0.000030</td>\n",
       "      <td>0.000030</td>\n",
       "      <td>-2.550924e-17</td>\n",
       "    </tr>\n",
       "    <tr>\n",
       "      <th>2020-05-11 00:00:25</th>\n",
       "      <td>0.000036</td>\n",
       "      <td>0.000036</td>\n",
       "      <td>-3.060838e-17</td>\n",
       "    </tr>\n",
       "    <tr>\n",
       "      <th>...</th>\n",
       "      <td>...</td>\n",
       "      <td>...</td>\n",
       "      <td>...</td>\n",
       "    </tr>\n",
       "    <tr>\n",
       "      <th>2020-05-11 23:59:25</th>\n",
       "      <td>0.000000</td>\n",
       "      <td>0.000005</td>\n",
       "      <td>4.714045e-06</td>\n",
       "    </tr>\n",
       "    <tr>\n",
       "      <th>2020-05-11 23:59:35</th>\n",
       "      <td>0.000004</td>\n",
       "      <td>0.000005</td>\n",
       "      <td>5.998665e-07</td>\n",
       "    </tr>\n",
       "    <tr>\n",
       "      <th>2020-05-11 23:59:45</th>\n",
       "      <td>0.000004</td>\n",
       "      <td>0.000004</td>\n",
       "      <td>-2.732200e-07</td>\n",
       "    </tr>\n",
       "    <tr>\n",
       "      <th>2020-05-11 23:59:50</th>\n",
       "      <td>0.000010</td>\n",
       "      <td>0.000007</td>\n",
       "      <td>-2.726932e-06</td>\n",
       "    </tr>\n",
       "    <tr>\n",
       "      <th>2020-05-12 00:00:00</th>\n",
       "      <td>0.000018</td>\n",
       "      <td>NaN</td>\n",
       "      <td>NaN</td>\n",
       "    </tr>\n",
       "  </tbody>\n",
       "</table>\n",
       "<p>16960 rows × 3 columns</p>\n",
       "</div>"
      ],
      "text/plain": [
       "                       BID_STDDEV_BQ  Bid StdDev Pandas         Delta\n",
       "upper_window_boundary                                                \n",
       "2020-05-11 00:00:05         0.000000           0.000000  0.000000e+00\n",
       "2020-05-11 00:00:10         0.000030           0.000030 -2.550924e-17\n",
       "2020-05-11 00:00:15         0.000028           0.000028 -2.875256e-11\n",
       "2020-05-11 00:00:20         0.000030           0.000030 -2.550924e-17\n",
       "2020-05-11 00:00:25         0.000036           0.000036 -3.060838e-17\n",
       "...                              ...                ...           ...\n",
       "2020-05-11 23:59:25         0.000000           0.000005  4.714045e-06\n",
       "2020-05-11 23:59:35         0.000004           0.000005  5.998665e-07\n",
       "2020-05-11 23:59:45         0.000004           0.000004 -2.732200e-07\n",
       "2020-05-11 23:59:50         0.000010           0.000007 -2.726932e-06\n",
       "2020-05-12 00:00:00         0.000018                NaN           NaN\n",
       "\n",
       "[16960 rows x 3 columns]"
      ]
     },
     "execution_count": 12,
     "metadata": {},
     "output_type": "execute_result"
    }
   ],
   "source": [
    "bid_std_dev_df_utc_join"
   ]
  },
  {
   "cell_type": "markdown",
   "metadata": {},
   "source": [
    "We can see at a first glance that the Standard Deviation metric is almost identical between the two frameworks, the moving average deviates slightly more.\n",
    "\n",
    "This is probably caused by the [round-off error](https://en.wikipedia.org/wiki/Round-off_error#:~:text=A%20roundoff%20error%2C%20also%20called,finite%2Dprecision%2C%20rounded%20arithmetic.) between Java [BigDecimals](https://docs.oracle.com/javase/8/docs/api/java/math/BigDecimal.html) vs Python [Float](https://docs.python.org/3/tutorial/floatingpoint.html) numerical data types. In the case of moving average the difference is higher as there are values at both sides of the decimal point, for more details [The Perils of Floating Point](http://www.lahey.com/float.htm)."
   ]
  },
  {
   "cell_type": "markdown",
   "metadata": {},
   "source": [
    "We can also use the Bokeh library to enable interactive graphs, so we can interact with the results to find areas where the delta is bigger."
   ]
  },
  {
   "cell_type": "code",
   "execution_count": null,
   "metadata": {},
   "outputs": [],
   "source": [
    "import numpy as np\n",
    "\n",
    "from bokeh.io import show, output_notebook\n",
    "from bokeh.layouts import column, gridplot\n",
    "from bokeh.models import ColumnDataSource, RangeTool\n",
    "from bokeh.plotting import figure\n",
    "\n",
    "dates = np.array(bid_ma60_df_utc_join.index, dtype=np.datetime64)\n",
    "\n",
    "\n",
    "p1 = figure(plot_height=300, plot_width=800, tools=\"xpan\", toolbar_location=None,\n",
    "           x_axis_type=\"datetime\", x_axis_location=\"above\",\n",
    "           background_fill_color=\"#efefef\", x_range=(dates[1500], dates[2500]))\n",
    "\n",
    "p1.line(dates, bid_ma60_df_utc_join['BID_MA60_BQ'], color='#A6CEE3', legend_label='Bid MA60 BQ')\n",
    "p1.line(dates, bid_ma60_df_utc_join['Bid MA60 Pandas'], color='#FB9A99', legend_label='Bid MA60 Pandas')\n",
    "p1.yaxis.axis_label = 'Price MA60'\n",
    "\n",
    "p2 = figure(plot_height=300, plot_width=800, tools=\"xpan\", toolbar_location=None,\n",
    "           x_axis_type=\"datetime\", x_axis_location=\"above\",\n",
    "           background_fill_color=\"#efefef\", x_range=p1.x_range)\n",
    "\n",
    "p2.line(dates, bid_ma60_df_utc_join['Delta'], color='#A6CEE3', legend_label='Delta')\n",
    "p2.yaxis.axis_label = 'Delta'\n",
    "\n",
    "select = figure(title=\"Drag the middle and edges of the selection box to change the range above\",\n",
    "                plot_height=130, plot_width=800, y_range=p1.y_range,\n",
    "                x_axis_type=\"datetime\", y_axis_type=None,\n",
    "                tools=\"\", toolbar_location=None, background_fill_color=\"#efefef\")\n",
    "\n",
    "range_tool = RangeTool(x_range=p1.x_range)\n",
    "range_tool.overlay.fill_color = \"navy\"\n",
    "range_tool.overlay.fill_alpha = 0.2\n",
    "\n",
    "select.line(dates, bid_ma60_df_utc_join['BID_MA60_BQ'], color='#A6CEE3')\n",
    "select.line(dates, bid_ma60_df_utc_join['Bid MA60 Pandas'], color='#FB9A99')\n",
    "select.ygrid.grid_line_color = None\n",
    "select.add_tools(range_tool)\n",
    "select.toolbar.active_multi = range_tool\n",
    "output_notebook()\n",
    "show(column(p1, p2, select))"
   ]
  },
  {
   "cell_type": "markdown",
   "metadata": {},
   "source": [
    "![title](img/MA60.png)"
   ]
  },
  {
   "cell_type": "code",
   "execution_count": null,
   "metadata": {},
   "outputs": [],
   "source": [
    "import numpy as np\n",
    "\n",
    "from bokeh.io import show, output_notebook\n",
    "from bokeh.layouts import column, gridplot\n",
    "from bokeh.models import ColumnDataSource, RangeTool\n",
    "from bokeh.plotting import figure\n",
    "\n",
    "dates = np.array(bid_std_dev_df_utc_join.index, dtype=np.datetime64)\n",
    "\n",
    "\n",
    "p1 = figure(plot_height=300, plot_width=800, tools=\"xpan\", toolbar_location=None,\n",
    "           x_axis_type=\"datetime\", x_axis_location=\"above\",\n",
    "           background_fill_color=\"#efefef\", x_range=(dates[1500], dates[2500]))\n",
    "\n",
    "p1.line(dates, bid_std_dev_df_utc_join['BID_STDDEV_BQ'], color='#A6CEE3', legend_label='Bid STDDEV BQ')\n",
    "p1.line(dates, bid_std_dev_df_utc_join['Bid StdDev Pandas'], color='#FB9A99', legend_label='Bid StdDev Pandas')\n",
    "p1.yaxis.axis_label = 'Standard Deviation'\n",
    "\n",
    "p2 = figure(plot_height=300, plot_width=800, tools=\"xpan\", toolbar_location=None,\n",
    "           x_axis_type=\"datetime\", x_axis_location=\"above\",\n",
    "           background_fill_color=\"#efefef\", x_range=p1.x_range)\n",
    "\n",
    "p2.line(dates, bid_std_dev_df_utc_join['Delta'], color='#A6CEE3', legend_label='Delta')\n",
    "p2.yaxis.axis_label = 'Delta'\n",
    "\n",
    "select = figure(title=\"Drag the middle and edges of the selection box to change the range above\",\n",
    "                plot_height=130, plot_width=800, y_range=p1.y_range,\n",
    "                x_axis_type=\"datetime\", y_axis_type=None,\n",
    "                tools=\"\", toolbar_location=None, background_fill_color=\"#efefef\")\n",
    "\n",
    "range_tool = RangeTool(x_range=p1.x_range)\n",
    "range_tool.overlay.fill_color = \"navy\"\n",
    "range_tool.overlay.fill_alpha = 0.2\n",
    "\n",
    "select.line(dates, bid_std_dev_df_utc_join['BID_STDDEV_BQ'], color='#A6CEE3')\n",
    "select.line(dates, bid_std_dev_df_utc_join['Bid StdDev Pandas'], color='#FB9A99')\n",
    "select.ygrid.grid_line_color = None\n",
    "select.add_tools(range_tool)\n",
    "select.toolbar.active_multi = range_tool\n",
    "output_notebook()\n",
    "show(column(p1, p2, select))"
   ]
  },
  {
   "cell_type": "markdown",
   "metadata": {},
   "source": [
    "![title](img/STDDEV.png)"
   ]
  },
  {
   "cell_type": "markdown",
   "metadata": {},
   "source": [
    "## Filling the gaps\n",
    "As wrap up, let's check how the gap forward filling feature is applied in both frameworks before the metrics are calculated:\n",
    "\n",
    "1. We start first with the results from the Time Series Beam framework stored in BigQuery already"
   ]
  },
  {
   "cell_type": "code",
   "execution_count": 35,
   "metadata": {},
   "outputs": [],
   "source": [
    "query_string_last = \"\"\"\n",
    "WITH LAST AS (\n",
    "    SELECT lower_window_boundary, upper_window_boundary, \n",
    "    (SELECT dbl_data from UNNEST(data) WHERE metric = 'LAST') AS LAST\n",
    "    FROM `<GCPPROJECT>.<DATASET>.<TABLE>`\n",
    "    WHERE timeseries_minor_key = 'BID'\n",
    ")\n",
    "\n",
    "SELECT * from LAST\n",
    "\"\"\"\n",
    "\n",
    "last_bq = (\n",
    "    bqclient.query(query_string_last)\n",
    "    .result()\n",
    "    .to_dataframe(bqstorage_client=bqstorageclient)\n",
    ").sort_values(by=['upper_window_boundary'])\n",
    "\n",
    "last_bq.index = pd.to_datetime(last_bq['upper_window_boundary'])"
   ]
  },
  {
   "cell_type": "code",
   "execution_count": 36,
   "metadata": {},
   "outputs": [
    {
     "data": {
      "text/html": [
       "<div>\n",
       "<style scoped>\n",
       "    .dataframe tbody tr th:only-of-type {\n",
       "        vertical-align: middle;\n",
       "    }\n",
       "\n",
       "    .dataframe tbody tr th {\n",
       "        vertical-align: top;\n",
       "    }\n",
       "\n",
       "    .dataframe thead th {\n",
       "        text-align: right;\n",
       "    }\n",
       "</style>\n",
       "<table border=\"1\" class=\"dataframe\">\n",
       "  <thead>\n",
       "    <tr style=\"text-align: right;\">\n",
       "      <th></th>\n",
       "      <th>lower_window_boundary</th>\n",
       "      <th>upper_window_boundary</th>\n",
       "      <th>LAST</th>\n",
       "    </tr>\n",
       "    <tr>\n",
       "      <th>upper_window_boundary</th>\n",
       "      <th></th>\n",
       "      <th></th>\n",
       "      <th></th>\n",
       "    </tr>\n",
       "  </thead>\n",
       "  <tbody>\n",
       "    <tr>\n",
       "      <th>2020-05-11 00:00:05+00:00</th>\n",
       "      <td>2020-05-11 00:00:00+00:00</td>\n",
       "      <td>2020-05-11 00:00:05+00:00</td>\n",
       "      <td>1.08372</td>\n",
       "    </tr>\n",
       "    <tr>\n",
       "      <th>2020-05-11 00:00:10+00:00</th>\n",
       "      <td>2020-05-11 00:00:05+00:00</td>\n",
       "      <td>2020-05-11 00:00:10+00:00</td>\n",
       "      <td>1.08378</td>\n",
       "    </tr>\n",
       "    <tr>\n",
       "      <th>2020-05-11 00:00:15+00:00</th>\n",
       "      <td>2020-05-11 00:00:10+00:00</td>\n",
       "      <td>2020-05-11 00:00:15+00:00</td>\n",
       "      <td>1.08378</td>\n",
       "    </tr>\n",
       "    <tr>\n",
       "      <th>2020-05-11 00:00:20+00:00</th>\n",
       "      <td>2020-05-11 00:00:15+00:00</td>\n",
       "      <td>2020-05-11 00:00:20+00:00</td>\n",
       "      <td>1.08372</td>\n",
       "    </tr>\n",
       "    <tr>\n",
       "      <th>2020-05-11 00:00:25+00:00</th>\n",
       "      <td>2020-05-11 00:00:20+00:00</td>\n",
       "      <td>2020-05-11 00:00:25+00:00</td>\n",
       "      <td>1.08369</td>\n",
       "    </tr>\n",
       "    <tr>\n",
       "      <th>...</th>\n",
       "      <td>...</td>\n",
       "      <td>...</td>\n",
       "      <td>...</td>\n",
       "    </tr>\n",
       "    <tr>\n",
       "      <th>2020-05-11 23:59:40+00:00</th>\n",
       "      <td>2020-05-11 23:59:35+00:00</td>\n",
       "      <td>2020-05-11 23:59:40+00:00</td>\n",
       "      <td>1.08088</td>\n",
       "    </tr>\n",
       "    <tr>\n",
       "      <th>2020-05-11 23:59:45+00:00</th>\n",
       "      <td>2020-05-11 23:59:40+00:00</td>\n",
       "      <td>2020-05-11 23:59:45+00:00</td>\n",
       "      <td>1.08089</td>\n",
       "    </tr>\n",
       "    <tr>\n",
       "      <th>2020-05-11 23:59:50+00:00</th>\n",
       "      <td>2020-05-11 23:59:45+00:00</td>\n",
       "      <td>2020-05-11 23:59:50+00:00</td>\n",
       "      <td>1.08091</td>\n",
       "    </tr>\n",
       "    <tr>\n",
       "      <th>2020-05-11 23:59:55+00:00</th>\n",
       "      <td>2020-05-11 23:59:50+00:00</td>\n",
       "      <td>2020-05-11 23:59:55+00:00</td>\n",
       "      <td>1.08091</td>\n",
       "    </tr>\n",
       "    <tr>\n",
       "      <th>2020-05-12 00:00:00+00:00</th>\n",
       "      <td>2020-05-11 23:59:55+00:00</td>\n",
       "      <td>2020-05-12 00:00:00+00:00</td>\n",
       "      <td>1.08093</td>\n",
       "    </tr>\n",
       "  </tbody>\n",
       "</table>\n",
       "<p>17280 rows × 3 columns</p>\n",
       "</div>"
      ],
      "text/plain": [
       "                              lower_window_boundary     upper_window_boundary  \\\n",
       "upper_window_boundary                                                           \n",
       "2020-05-11 00:00:05+00:00 2020-05-11 00:00:00+00:00 2020-05-11 00:00:05+00:00   \n",
       "2020-05-11 00:00:10+00:00 2020-05-11 00:00:05+00:00 2020-05-11 00:00:10+00:00   \n",
       "2020-05-11 00:00:15+00:00 2020-05-11 00:00:10+00:00 2020-05-11 00:00:15+00:00   \n",
       "2020-05-11 00:00:20+00:00 2020-05-11 00:00:15+00:00 2020-05-11 00:00:20+00:00   \n",
       "2020-05-11 00:00:25+00:00 2020-05-11 00:00:20+00:00 2020-05-11 00:00:25+00:00   \n",
       "...                                             ...                       ...   \n",
       "2020-05-11 23:59:40+00:00 2020-05-11 23:59:35+00:00 2020-05-11 23:59:40+00:00   \n",
       "2020-05-11 23:59:45+00:00 2020-05-11 23:59:40+00:00 2020-05-11 23:59:45+00:00   \n",
       "2020-05-11 23:59:50+00:00 2020-05-11 23:59:45+00:00 2020-05-11 23:59:50+00:00   \n",
       "2020-05-11 23:59:55+00:00 2020-05-11 23:59:50+00:00 2020-05-11 23:59:55+00:00   \n",
       "2020-05-12 00:00:00+00:00 2020-05-11 23:59:55+00:00 2020-05-12 00:00:00+00:00   \n",
       "\n",
       "                              LAST  \n",
       "upper_window_boundary               \n",
       "2020-05-11 00:00:05+00:00  1.08372  \n",
       "2020-05-11 00:00:10+00:00  1.08378  \n",
       "2020-05-11 00:00:15+00:00  1.08378  \n",
       "2020-05-11 00:00:20+00:00  1.08372  \n",
       "2020-05-11 00:00:25+00:00  1.08369  \n",
       "...                            ...  \n",
       "2020-05-11 23:59:40+00:00  1.08088  \n",
       "2020-05-11 23:59:45+00:00  1.08089  \n",
       "2020-05-11 23:59:50+00:00  1.08091  \n",
       "2020-05-11 23:59:55+00:00  1.08091  \n",
       "2020-05-12 00:00:00+00:00  1.08093  \n",
       "\n",
       "[17280 rows x 3 columns]"
      ]
     },
     "execution_count": 36,
     "metadata": {},
     "output_type": "execute_result"
    }
   ],
   "source": [
    "last_bq"
   ]
  },
  {
   "cell_type": "code",
   "execution_count": null,
   "metadata": {},
   "outputs": [],
   "source": [
    "import numpy as np\n",
    "\n",
    "from bokeh.io import show, output_notebook\n",
    "from bokeh.layouts import column, gridplot\n",
    "from bokeh.models import ColumnDataSource, RangeTool\n",
    "from bokeh.plotting import figure\n",
    "\n",
    "dates_unsampled = np.array(eurusd.index, dtype=np.datetime64)\n",
    "\n",
    "dates_resampled = np.array(last_bq.index, dtype=np.datetime64)\n",
    "\n",
    "# We position the graph towards the end of day to show a quiet period when forward filling is necessary\n",
    "p1 = figure(plot_height=300, plot_width=800, tools=\"xpan\", toolbar_location=None,\n",
    "           x_axis_type=\"datetime\", x_axis_location=\"above\",\n",
    "           background_fill_color=\"#efefef\", x_range=(dates_unsampled[dates_unsampled.size-100], dates_unsampled[dates_unsampled.size-1]))\n",
    "\n",
    "p1.circle(dates_unsampled, eurusd['Bid'], color='#A6CEE3', legend_label='Bid unsampled')\n",
    "p1.circle(dates_resampled, last_bq['LAST'], color='#FB9A99', legend_label='Bid downsampled')\n",
    "p1.yaxis.axis_label = 'Downsampling'\n",
    "\n",
    "select = figure(title=\"Drag the middle and edges of the selection box to change the range above\",\n",
    "                plot_height=130, plot_width=800, y_range=p1.y_range,\n",
    "                x_axis_type=\"datetime\", y_axis_type=None,\n",
    "                tools=\"\", toolbar_location=None, background_fill_color=\"#efefef\")\n",
    "\n",
    "range_tool = RangeTool(x_range=p1.x_range)\n",
    "range_tool.overlay.fill_color = \"navy\"\n",
    "range_tool.overlay.fill_alpha = 0.2\n",
    "\n",
    "select.line(dates_unsampled, eurusd['Bid'], color='#A6CEE3')\n",
    "select.ygrid.grid_line_color = None\n",
    "select.add_tools(range_tool)\n",
    "select.toolbar.active_multi = range_tool\n",
    "output_notebook()\n",
    "show(column(p1, select))"
   ]
  },
  {
   "cell_type": "code",
   "execution_count": 47,
   "metadata": {},
   "outputs": [],
   "source": [
    "# from bokeh.io import export_png\n",
    "\n",
    "# export_png(column(p1, select), filename=\"img/FILLINGBQ.png\")"
   ]
  },
  {
   "cell_type": "markdown",
   "metadata": {},
   "source": [
    "![title](img/FILLINGBQ.png)"
   ]
  },
  {
   "cell_type": "markdown",
   "metadata": {},
   "source": [
    "We can see how the unsampled data points are less frequent, so the resampled data points are forward filled correctly, in this case using the LAST measure from the samples."
   ]
  },
  {
   "cell_type": "markdown",
   "metadata": {},
   "source": [
    "2. Let's repeat the exercise with the Pandas resample this time"
   ]
  },
  {
   "cell_type": "code",
   "execution_count": 17,
   "metadata": {},
   "outputs": [],
   "source": [
    "last_pandas = eurusd.resample(\"5S\").pad()['Bid']"
   ]
  },
  {
   "cell_type": "code",
   "execution_count": null,
   "metadata": {},
   "outputs": [],
   "source": [
    "import numpy as np\n",
    "\n",
    "from bokeh.io import show, output_notebook\n",
    "from bokeh.layouts import column, gridplot\n",
    "from bokeh.models import ColumnDataSource, RangeTool\n",
    "from bokeh.plotting import figure\n",
    "\n",
    "dates_unsampled = np.array(eurusd.index, dtype=np.datetime64)\n",
    "\n",
    "dates_resampled = np.array(last_pandas.index, dtype=np.datetime64)\n",
    "\n",
    "# We position the graph towards the end of day to show a quiet period when forward filling is necessary\n",
    "p1 = figure(plot_height=300, plot_width=800, tools=\"xpan\", toolbar_location=None,\n",
    "           x_axis_type=\"datetime\", x_axis_location=\"above\",\n",
    "           background_fill_color=\"#efefef\", x_range=(dates_unsampled[dates_unsampled.size-100], dates_unsampled[dates_unsampled.size-1]))\n",
    "\n",
    "p1.circle(dates_unsampled, eurusd['Bid'], color='#A6CEE3', legend_label='Bid unsampled')\n",
    "p1.circle(dates_resampled, last_pandas, color='#FB9A99', legend_label='Bid downsampled')\n",
    "p1.yaxis.axis_label = 'Downsampling'\n",
    "\n",
    "select = figure(title=\"Drag the middle and edges of the selection box to change the range above\",\n",
    "                plot_height=130, plot_width=800, y_range=p1.y_range,\n",
    "                x_axis_type=\"datetime\", y_axis_type=None,\n",
    "                tools=\"\", toolbar_location=None, background_fill_color=\"#efefef\")\n",
    "\n",
    "range_tool = RangeTool(x_range=p1.x_range)\n",
    "range_tool.overlay.fill_color = \"navy\"\n",
    "range_tool.overlay.fill_alpha = 0.2\n",
    "\n",
    "select.line(dates_unsampled, eurusd['Bid'], color='#A6CEE3')\n",
    "select.ygrid.grid_line_color = None\n",
    "select.add_tools(range_tool)\n",
    "select.toolbar.active_multi = range_tool\n",
    "output_notebook()\n",
    "show(column(p1, select))"
   ]
  },
  {
   "cell_type": "code",
   "execution_count": 44,
   "metadata": {},
   "outputs": [],
   "source": [
    "# from bokeh.io import export_png\n",
    "\n",
    "# export_png(column(p1, select), filename=\"img/FILLINGPANDAS.png\")"
   ]
  },
  {
   "cell_type": "markdown",
   "metadata": {},
   "source": [
    "![title](img/FILLINGPANDAS.png)"
   ]
  },
  {
   "cell_type": "markdown",
   "metadata": {},
   "source": [
    "We can see again the Pandas resampling with the pad() option, forward fills with exactly same pattern, proving the two frameworks apply forward filling in similar way."
   ]
  },
  {
   "cell_type": "markdown",
   "metadata": {},
   "source": [
    "## What's next\n",
    "- Feel free to explore the framework and build [new metrics](https://github.com/GoogleCloudPlatform/dataflow-sample-applications/tree/master/timeseries-streaming/timeseries-java-applications/TimeSeriesMetricsLibrary#creating-new-metrics-from-a-stream) for your own needs! "
   ]
  }
 ],
 "metadata": {
  "kernelspec": {
   "display_name": "Python 3",
   "language": "python",
   "name": "python3"
  },
  "language_info": {
   "codemirror_mode": {
    "name": "ipython",
    "version": 3
   },
   "file_extension": ".py",
   "mimetype": "text/x-python",
   "name": "python",
   "nbconvert_exporter": "python",
   "pygments_lexer": "ipython3",
   "version": "3.7.9"
  }
 },
 "nbformat": 4,
 "nbformat_minor": 4
}